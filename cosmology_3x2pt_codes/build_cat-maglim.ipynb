{
 "cells": [
  {
   "cell_type": "markdown",
   "id": "f3738e93-aff4-43e6-9bff-86ae7d9eebb9",
   "metadata": {},
   "source": [
    "This notebook build the lens catalogue with Maglim selection"
   ]
  },
  {
   "cell_type": "code",
   "execution_count": 1,
   "id": "24d5def3-88c0-4ebc-8944-c8aeacd84329",
   "metadata": {
    "tags": []
   },
   "outputs": [],
   "source": [
    "import os\n",
    "import numpy as np\n",
    "import healpy as hp\n",
    "from astropy.io import fits\n",
    "from astropy import units as u\n",
    "from astropy.cosmology import FlatwCDM, z_at_value\n",
    "from astropy import constants as const\n",
    "import sys\n",
    "#sys.path.insert(0, \"/global/homes/q/qhang/des/\")\n",
    "#import ISW_functions_des as iswf\n",
    "#from bornraytrace import lensing\n",
    "#import des_superstructure_profile_functions as dspf\n",
    "#from orphics import mpi,stats\n",
    "#import argparse\n",
    "import pylab as pl"
   ]
  },
  {
   "cell_type": "code",
   "execution_count": 13,
   "id": "ec1a9ceb-4395-4643-9a43-2967ef28209c",
   "metadata": {
    "tags": []
   },
   "outputs": [],
   "source": [
    "import yaml"
   ]
  },
  {
   "cell_type": "code",
   "execution_count": 2,
   "id": "afa0cb4b-d197-4485-a7e3-802913a25864",
   "metadata": {
    "tags": []
   },
   "outputs": [],
   "source": [
    "simroot = \"/global/cfs/cdirs/des/mgatti/Dirac_mocks/runsK/run017/\""
   ]
  },
  {
   "cell_type": "code",
   "execution_count": 3,
   "id": "418ec67a-14a0-477a-a947-933605e5b3b0",
   "metadata": {
    "tags": []
   },
   "outputs": [
    {
     "name": "stdout",
     "output_type": "stream",
     "text": [
      "FlatwCDM(H0=70.0 km / (Mpc s), Om0=0.279, w0=-1.0, Tcmb0=2.73 K, Neff=3.04, m_nu=[0. 0. 0.] eV, Ob0=0.046)\n"
     ]
    }
   ],
   "source": [
    "# set up cosmology:\n",
    "run_X = 'K'\n",
    "run_n = 17\n",
    "fname=f\"/global/homes/m/mgatti/Mass_Mapping/peaks/params_run_1_Niall_{run_X}.txt\"\n",
    "cosmodata = np.loadtxt(fname, delimiter=',')\n",
    "Om0 = cosmodata[run_n-1,0]\n",
    "w0 = cosmodata[run_n-1,2]\n",
    "Ob0 = cosmodata[run_n-1,3]\n",
    "h0=cosmodata[run_n-1,4]\n",
    "cosmo = FlatwCDM(H0=h0*100, Om0=Om0,w0=w0,Ob0=Ob0,Tcmb0=2.73)\n",
    "print(cosmo)"
   ]
  },
  {
   "cell_type": "code",
   "execution_count": 4,
   "id": "a17144d7-8744-4663-a087-a4bd11b7bdb6",
   "metadata": {
    "tags": []
   },
   "outputs": [],
   "source": [
    "sigma8=0.82\n",
    "ns=0.97"
   ]
  },
  {
   "cell_type": "code",
   "execution_count": 5,
   "id": "e17132b1-e495-47a5-89a2-58c46315542c",
   "metadata": {
    "tags": []
   },
   "outputs": [],
   "source": [
    "import pyccl as ccl\n",
    "ccl.gsl_params.LENSING_KERNEL_SPLINE_INTEGRATION = True\n",
    "cosmo_ccl = ccl.Cosmology(Omega_c = Om0-Ob0, Omega_b = Ob0, h = h0, sigma8 = sigma8, n_s = ns)"
   ]
  },
  {
   "cell_type": "code",
   "execution_count": 6,
   "id": "5911c6e2-d8ff-4803-bba9-cdf60a9b969a",
   "metadata": {
    "tags": []
   },
   "outputs": [],
   "source": [
    "# load z_values\n",
    "z_values=np.loadtxt(simroot + \"z_values.txt\", delimiter=',')\n",
    "z_values_index = z_values[:,0]\n",
    "z_values_bin_max = z_values[:,1]\n",
    "z_values_bin_min = z_values[:,2]\n",
    "z_bin_edges = np.append(z_values_bin_max, z_values_bin_min[-1])\n",
    "z_bin = (z_bin_edges[1:] + z_bin_edges[:-1])/2."
   ]
  },
  {
   "cell_type": "code",
   "execution_count": 7,
   "id": "4b77ac4b-7e01-44fe-afde-975b49b44e6c",
   "metadata": {
    "tags": []
   },
   "outputs": [],
   "source": [
    "dz=z_values_bin_max-z_values_bin_min"
   ]
  },
  {
   "cell_type": "code",
   "execution_count": 8,
   "id": "68913b62-e615-4475-9772-0e61b20ea093",
   "metadata": {
    "tags": []
   },
   "outputs": [],
   "source": [
    "nside=512\n",
    "lmax=1000\n",
    "pixwin = hp.pixwin(nside,lmax=lmax)**2"
   ]
  },
  {
   "cell_type": "code",
   "execution_count": 9,
   "id": "a457ad84-09ca-4eb2-be93-5ed88d374dc8",
   "metadata": {
    "tags": []
   },
   "outputs": [
    {
     "name": "stdout",
     "output_type": "stream",
     "text": [
      "0.41963705\n",
      "62320550.0\n"
     ]
    }
   ],
   "source": [
    "# load mask in nside=512\n",
    "root=\"/pscratch/sd/q/qhang/glass_mock/catalog_info/mask/\"\n",
    "mask=hp.read_map(root+\"wfd_footprint_nvisitcut_500_nside_128-ebv-0.2-1024.fits\")\n",
    "mask=hp.ud_grade(mask,512)\n",
    "fsky=np.mean(mask)\n",
    "print(fsky)\n",
    "# compute the sky area in terms of armin:\n",
    "area_pix = hp.nside2pixarea(512, degrees=True)*60**2 # arcmin^2\n",
    "total_area = np.sum(mask*area_pix)\n",
    "print(total_area)"
   ]
  },
  {
   "cell_type": "code",
   "execution_count": 10,
   "id": "a7de202f-6164-4344-8566-9834f16cfb4b",
   "metadata": {
    "tags": []
   },
   "outputs": [],
   "source": [
    "#Ngal_lens=np.array([3.93, 6.08, 5.66, 5.71, 3.03])# arcmin ^-2\n",
    "# above value is for the gold selection, but maglim is much sparse\n",
    "\n",
    "Ngal_lens=np.array([0.135, 0.117, 0.156, 0.219, 0.2666])"
   ]
  },
  {
   "cell_type": "code",
   "execution_count": 14,
   "id": "31b531ed-f843-4da9-af78-4f94e384d452",
   "metadata": {
    "tags": []
   },
   "outputs": [],
   "source": [
    "root = '/pscratch/sd/q/qhang/roman-rubin-sims/baselinev3.3/'\n",
    "packed_stats_maglim = {}\n",
    "for year in [3]:\n",
    "    fname=root+f'y{year}/fzb/test-pz-with-i-band-coadd-Y{year}-snr-5.0-lens-meanApsf-theta_eff-maglim.yml'\n",
    "    with open(fname, \"r\") as stream:\n",
    "        packed_stats_maglim[year]=yaml.load(stream,Loader=yaml.Loader)"
   ]
  },
  {
   "cell_type": "code",
   "execution_count": 17,
   "id": "a954b84f-fc46-480c-8d19-4336d24cfa84",
   "metadata": {
    "tags": []
   },
   "outputs": [
    {
     "name": "stdout",
     "output_type": "stream",
     "text": [
      "N 8413274.520000001 meanz 0.2693403202813872\n",
      "N 7291504.584000001 meanz 0.4967827842339575\n",
      "N 9722006.112 meanz 0.6880201152921854\n",
      "N 13648200.888 meanz 0.8739331078110674\n",
      "N 16614659.1632 meanz 1.073869964430464\n"
     ]
    }
   ],
   "source": [
    "# load the lens redshift distribution:\n",
    "# bin 1:\n",
    "USESHELL={}\n",
    "USEINDEX={}\n",
    "NZ_LENS={}\n",
    "COUNTS={}\n",
    "MEANZ={}\n",
    "\n",
    "stats = packed_stats_maglim[3]\n",
    "\n",
    "for lens_bin in range(5):\n",
    "\n",
    "    #lens_bin=0\n",
    "    #root=\"/pscratch/sd/q/qhang/glass_mock/catalog_info/lsst-y3-fzb/\"\n",
    "    #fin = np.loadtxt(root+f\"NofZ-lens-tomo-{lens_bin}-fzb.dat\")\n",
    "    #finzbin = fin[:,0]\n",
    "    #finzz = (finzbin[1:]+ finzbin[:-1])/2.\n",
    "    #finnz = fin[:-1,1]\n",
    "    \n",
    "    nz = stats[\"tomo-%d\"%(lens_bin+1)][\"nztot\"]\n",
    "    d = nz[1,0]-nz[0,0]\n",
    "    finzbin = np.append(nz[:,0]-d/2., nz[-1,0]+d/2.)\n",
    "    finzz = nz[:,0]\n",
    "    finnz = nz[:,1]#/np.sum(nz[:,1])/(nz[1,0]-nz[0,0])\n",
    "    \n",
    "    # load n(z)\n",
    "    N=Ngal_lens[lens_bin]*total_area\n",
    "\n",
    "    # normalise to nz\n",
    "    counts = finnz/np.sum(finnz)/(finzbin[1:]-finzbin[:-1]) # notice here dz is constant\n",
    "    # interpolate the values at z_bin:\n",
    "    counts = np.interp(z_values_bin_max[::-1], finzz, counts, left=0,right=0)\n",
    "    # normalise by dz\n",
    "    counts=counts*(z_values_bin_max[::-1] - z_values_bin_min[::-1])\n",
    "    counts = counts/np.sum(counts)*N # normalise\n",
    "    counts = counts[::-1] # this is the number of objects per bin in the same order as the index\n",
    "    \n",
    "    # compute mean redshift too:\n",
    "    meanz=np.sum(z_bin*counts)/np.sum(counts)\n",
    "    print(\"N\", N, \"meanz\", meanz)\n",
    "\n",
    "    # n(z) for lens\n",
    "    nz_lens=counts/np.sum(counts)/(z_bin_edges[:-1]-z_bin_edges[1:])\n",
    "    # define which shells are used\n",
    "    useshell = np.where(counts>0)[0] #(0-99 based)\n",
    "    useindex = z_values_index[useshell].astype(int)\n",
    "    #print(\"The following shells (0-99) are used for lens: \",useshell)\n",
    "    \n",
    "    USESHELL[lens_bin]=useshell\n",
    "    USEINDEX[lens_bin]=useindex\n",
    "    NZ_LENS[lens_bin]=nz_lens\n",
    "    COUNTS[lens_bin]=counts\n",
    "    MEANZ[lens_bin]=meanz"
   ]
  },
  {
   "cell_type": "code",
   "execution_count": 18,
   "id": "c87f8807-3463-4ac9-b0da-497793e86900",
   "metadata": {
    "tags": []
   },
   "outputs": [],
   "source": [
    "COUNTS_UD=COUNTS.copy()"
   ]
  },
  {
   "cell_type": "code",
   "execution_count": 19,
   "id": "31bed826-728d-4c9b-8157-4ac716861ef0",
   "metadata": {
    "tags": []
   },
   "outputs": [
    {
     "data": {
      "text/plain": [
       "(0.0, 3.0)"
      ]
     },
     "execution_count": 19,
     "metadata": {},
     "output_type": "execute_result"
    },
    {
     "data": {
      "image/png": "[encoded data removed]",
      "text/plain": [
       "<Figure size 640x480 with 1 Axes>"
      ]
     },
     "metadata": {},
     "output_type": "display_data"
    }
   ],
   "source": [
    "for ii in range(5):\n",
    "    counts=COUNTS[ii]\n",
    "    pl.plot(z_bin, counts/sum(counts)/dz)\n",
    "pl.xlim([0,3])"
   ]
  },
  {
   "cell_type": "markdown",
   "id": "94594209-7900-4fd2-803c-8b9ace43547d",
   "metadata": {},
   "source": [
    "Uniform, delta map:"
   ]
  },
  {
   "cell_type": "code",
   "execution_count": 20,
   "id": "74bf6cb9-3387-45d9-9e24-5e7836031513",
   "metadata": {
    "tags": []
   },
   "outputs": [
    {
     "name": "stderr",
     "output_type": "stream",
     "text": [
      "setting the output map dtype to [dtype('float64')]\n"
     ]
    },
    {
     "name": "stdout",
     "output_type": "stream",
     "text": [
      "Written:  /pscratch/sd/q/qhang/dirac_mock/desc-project285/deltamap-lens-maglim-tomo-0-nside-512.fits\n"
     ]
    },
    {
     "name": "stderr",
     "output_type": "stream",
     "text": [
      "setting the output map dtype to [dtype('float64')]\n"
     ]
    },
    {
     "name": "stdout",
     "output_type": "stream",
     "text": [
      "Written:  /pscratch/sd/q/qhang/dirac_mock/desc-project285/deltamap-lens-maglim-tomo-1-nside-512.fits\n"
     ]
    },
    {
     "name": "stderr",
     "output_type": "stream",
     "text": [
      "setting the output map dtype to [dtype('float64')]\n"
     ]
    },
    {
     "name": "stdout",
     "output_type": "stream",
     "text": [
      "Written:  /pscratch/sd/q/qhang/dirac_mock/desc-project285/deltamap-lens-maglim-tomo-2-nside-512.fits\n"
     ]
    },
    {
     "name": "stderr",
     "output_type": "stream",
     "text": [
      "setting the output map dtype to [dtype('float64')]\n"
     ]
    },
    {
     "name": "stdout",
     "output_type": "stream",
     "text": [
      "Written:  /pscratch/sd/q/qhang/dirac_mock/desc-project285/deltamap-lens-maglim-tomo-3-nside-512.fits\n"
     ]
    },
    {
     "name": "stderr",
     "output_type": "stream",
     "text": [
      "setting the output map dtype to [dtype('float64')]\n"
     ]
    },
    {
     "name": "stdout",
     "output_type": "stream",
     "text": [
      "Written:  /pscratch/sd/q/qhang/dirac_mock/desc-project285/deltamap-lens-maglim-tomo-4-nside-512.fits\n"
     ]
    }
   ],
   "source": [
    "# deltamap for uniform case!\n",
    "# this is just to make the galaxy maps reproducible\n",
    "savedir=\"/pscratch/sd/q/qhang/dirac_mock/desc-project285/\"\n",
    "\n",
    "for lens_bin in range(5):\n",
    "    \n",
    "    nz_lens = COUNTS[lens_bin]/sum(COUNTS[lens_bin])\n",
    "    useshell = USESHELL[lens_bin]\n",
    "    useindex = USEINDEX[lens_bin]\n",
    "\n",
    "    galmap_inmask = 0\n",
    "    for ii,index in enumerate(useindex):\n",
    "        dens = hp.read_map(simroot + f\"lens_{index}_512.fits\")\n",
    "        galmap_inmask += dens*nz_lens[useshell][ii]\n",
    "\n",
    "    # save galmap\n",
    "    fname=savedir+f\"deltamap-lens-maglim-tomo-{lens_bin}-nside-512.fits\"\n",
    "    hp.write_map(fname, galmap_inmask*mask, overwrite=True)\n",
    "    print(\"Written: \", fname)"
   ]
  },
  {
   "cell_type": "code",
   "execution_count": 21,
   "id": "aa1efe60-1bdb-47a4-a80b-c49641e30f39",
   "metadata": {
    "tags": []
   },
   "outputs": [
    {
     "name": "stderr",
     "output_type": "stream",
     "text": [
      "setting the output map dtype to [dtype('float64')]\n"
     ]
    },
    {
     "name": "stdout",
     "output_type": "stream",
     "text": [
      "Written:  /pscratch/sd/q/qhang/dirac_mock/desc-project285/galmap-lens-maglim-tomo-0-nside-512.fits\n"
     ]
    },
    {
     "name": "stderr",
     "output_type": "stream",
     "text": [
      "setting the output map dtype to [dtype('float64')]\n"
     ]
    },
    {
     "name": "stdout",
     "output_type": "stream",
     "text": [
      "Written:  /pscratch/sd/q/qhang/dirac_mock/desc-project285/galmap-lens-maglim-tomo-1-nside-512.fits\n"
     ]
    },
    {
     "name": "stderr",
     "output_type": "stream",
     "text": [
      "setting the output map dtype to [dtype('float64')]\n"
     ]
    },
    {
     "name": "stdout",
     "output_type": "stream",
     "text": [
      "Written:  /pscratch/sd/q/qhang/dirac_mock/desc-project285/galmap-lens-maglim-tomo-2-nside-512.fits\n"
     ]
    },
    {
     "name": "stderr",
     "output_type": "stream",
     "text": [
      "setting the output map dtype to [dtype('float64')]\n"
     ]
    },
    {
     "name": "stdout",
     "output_type": "stream",
     "text": [
      "Written:  /pscratch/sd/q/qhang/dirac_mock/desc-project285/galmap-lens-maglim-tomo-3-nside-512.fits\n"
     ]
    },
    {
     "name": "stderr",
     "output_type": "stream",
     "text": [
      "setting the output map dtype to [dtype('float64')]\n"
     ]
    },
    {
     "name": "stdout",
     "output_type": "stream",
     "text": [
      "Written:  /pscratch/sd/q/qhang/dirac_mock/desc-project285/galmap-lens-maglim-tomo-4-nside-512.fits\n"
     ]
    }
   ],
   "source": [
    "# now compute galaxy number per pixel:\n",
    "# generate lens galaxy map:\n",
    "bias=1\n",
    "Npix = np.sum(mask)\n",
    "np.random.seed(1234)\n",
    "# this is just to make the galaxy maps reproducible\n",
    "savedir=\"/pscratch/sd/q/qhang/dirac_mock/desc-project285/\"\n",
    "\n",
    "for lens_bin in range(5):\n",
    "    \n",
    "    counts = COUNTS[lens_bin]\n",
    "    useshell = USESHELL[lens_bin]\n",
    "    useindex = USEINDEX[lens_bin]\n",
    "    \n",
    "    Ngal_perpix = counts[useshell]/Npix\n",
    "\n",
    "    galmap_inmask = 0\n",
    "    for ii,index in enumerate(useindex):\n",
    "        dens = hp.read_map(simroot + f\"lens_{index}_512.fits\")\n",
    "        exp_Ngal = Ngal_perpix[ii]*(1+bias*dens)\n",
    "        exp_Ngal = exp_Ngal[mask.astype(bool)]\n",
    "        # set anything smaller than 0 to 0\n",
    "        exp_Ngal[exp_Ngal<0]=0\n",
    "        galmap_inmask += np.random.poisson(lam=exp_Ngal)\n",
    "\n",
    "    galmap = np.zeros(len(mask))\n",
    "    galmap[mask.astype(bool)] = galmap_inmask\n",
    "\n",
    "    # save galmap\n",
    "    fname=savedir+f\"galmap-lens-maglim-tomo-{lens_bin}-nside-512.fits\"\n",
    "    hp.write_map(fname, galmap, overwrite=True)\n",
    "    print(\"Written: \", fname)"
   ]
  },
  {
   "cell_type": "code",
   "execution_count": 22,
   "id": "93ce42c5-d234-4a7d-9f29-686c2160eff5",
   "metadata": {
    "tags": []
   },
   "outputs": [],
   "source": [
    "galmap={}\n",
    "\n",
    "savedir=\"/pscratch/sd/q/qhang/dirac_mock/desc-project285/\"\n",
    "for lens_bin in range(5):\n",
    "    fname=savedir+f\"galmap-lens-maglim-tomo-{lens_bin}-nside-512.fits\"\n",
    "    galmap[lens_bin]=hp.read_map(fname)"
   ]
  },
  {
   "cell_type": "code",
   "execution_count": 25,
   "id": "b651e162-169d-46f3-806f-163c26894b62",
   "metadata": {
    "tags": []
   },
   "outputs": [],
   "source": [
    "clgg = np.zeros((1001, 5))\n",
    "root=\"/pscratch/sd/q/qhang/dirac_mock/desc-project285/\"\n",
    "for ii in range(5):\n",
    "    # now let's check fitting ccl theory / camb theory!\n",
    "    delta = (galmap[ii]/(sum(galmap[ii])/sum(mask))-1)*mask\n",
    "    clgg[:,ii] = hp.anafast(delta,lmax=1000)/fsky\n",
    "\n",
    "fname = root+\"clgg-maglim-pseudo-cl-w-fsky-nside-512.txt\"\n",
    "np.savetxt(fname, clgg)"
   ]
  },
  {
   "cell_type": "code",
   "execution_count": 26,
   "id": "873fff6c-8a50-4cef-afcd-63564da09337",
   "metadata": {
    "tags": []
   },
   "outputs": [],
   "source": [
    "root=\"/pscratch/sd/q/qhang/dirac_mock/desc-project285/\"\n",
    "fname = root+\"clgg-maglim-pseudo-cl-w-fsky-nside-512.txt\"  \n",
    "clgg = np.loadtxt(fname)"
   ]
  },
  {
   "cell_type": "code",
   "execution_count": 23,
   "id": "c89fd85b-9396-4773-aa43-1c2b06e3f5c6",
   "metadata": {
    "tags": []
   },
   "outputs": [
    {
     "name": "stdout",
     "output_type": "stream",
     "text": [
      "[6.24662293e-07 7.24234555e-07 5.41624902e-07 3.86396288e-07\n",
      " 3.17436649e-07]\n"
     ]
    }
   ],
   "source": [
    "shotnoise=np.zeros(5)\n",
    "for ii in range(5):\n",
    "    shotnoise[ii]=4*np.pi*fsky/sum(galmap[ii])\n",
    "    \n",
    "print(shotnoise)"
   ]
  },
  {
   "cell_type": "code",
   "execution_count": 24,
   "id": "6c5ddb65-9bc7-483a-8a4c-3da64b0067fb",
   "metadata": {
    "tags": []
   },
   "outputs": [],
   "source": [
    "root=\"/pscratch/sd/q/qhang/glass_mock/catalog_info/lsst-y3-fzb/\"\n",
    "ell=np.arange(1,3*nside)\n",
    "clth = np.zeros((3*nside,5))\n",
    "for lens_bin in range(5):\n",
    "    \n",
    "    #fin = np.loadtxt(root+f\"NofZ-lens-tomo-{lens_bin}-fzb.dat\")\n",
    "    #finzbin = fin[:,0]\n",
    "    #finzz = (finzbin[1:]+ finzbin[:-1])/2.\n",
    "    #finnz = fin[:-1,1]\n",
    "    \n",
    "    # try ccl:\n",
    "    counts = COUNTS[lens_bin]\n",
    "    nz = counts/np.sum(counts)/dz\n",
    "    clu1 = ccl.NumberCountsTracer(cosmo_ccl, has_rsd=False, dndz=(z_bin[::-1], nz[::-1]), \n",
    "                                          bias=(z_bin[::-1],np.ones(len(finzz))))\n",
    "\n",
    "    tmp=ccl.angular_cl(cosmo_ccl, clu1, clu1, ell)\n",
    "    clth[:,lens_bin] = np.append(0, tmp)\n",
    "    \n",
    "root=\"/pscratch/sd/q/qhang/dirac_mock/desc-project285/\"\n",
    "fname = root+\"clgg-maglim-theory-z_bin-nside-512.txt\"\n",
    "np.savetxt(fname, clth)"
   ]
  },
  {
   "cell_type": "code",
   "execution_count": 28,
   "id": "90a9f7cc-ba2c-4312-9c81-93afb8a6ad72",
   "metadata": {
    "tags": []
   },
   "outputs": [],
   "source": [
    "root=\"/pscratch/sd/q/qhang/dirac_mock/desc-project285/\"\n",
    "fname = root+\"clgg-maglim-theory-z_bin-nside-512.txt\"    \n",
    "clth = np.loadtxt(fname)"
   ]
  },
  {
   "cell_type": "code",
   "execution_count": 29,
   "id": "671e61c6-ef55-441c-b9e4-2df868eecf60",
   "metadata": {
    "tags": []
   },
   "outputs": [],
   "source": [
    "# modify theory:\n",
    "clth_obs = np.zeros((1001,5))\n",
    "for ii in range(5):\n",
    "    clth_obs[:,ii] = (clth[:1001,ii]*pixwin)#+shotnoise[ii]\n",
    "    #clth_obs[:,ii] = (clth[:1001,ii]+shotnoise[ii])*pixwin"
   ]
  },
  {
   "cell_type": "code",
   "execution_count": 30,
   "id": "d06bb300-e8d2-4423-bc38-d48c67fc887b",
   "metadata": {
    "tags": []
   },
   "outputs": [],
   "source": [
    "def fit_shotnoise(param, data, model, pshot):\n",
    "    return np.sum(abs(data/(model+param*pshot)-1))"
   ]
  },
  {
   "cell_type": "code",
   "execution_count": 31,
   "id": "b4debb49-0901-4a6c-a82e-17fa3d3657bc",
   "metadata": {
    "tags": []
   },
   "outputs": [
    {
     "name": "stdout",
     "output_type": "stream",
     "text": [
      "1.0327820677296966\n",
      "1.0191833121851632\n",
      "1.0314668521154968\n",
      "1.0205322303621482\n",
      "1.0235745913226222\n",
      "[6.451400144212375e-07, 7.381277724137032e-07, 5.58668132340528e-07, 3.943298655590948e-07, 3.249200879550556e-07]\n",
      "1.0014325863605507 0.0035917054489389547\n",
      "0.9967039426707545 0.0028984088878660206\n",
      "1.000804426841662 0.004631938646277299\n",
      "1.0009702051622213 0.004143079962625714\n",
      "1.0005986403899685 0.00450956468067989\n"
     ]
    }
   ],
   "source": [
    "from scipy.optimize import minimize\n",
    "\n",
    "new_shot=[]\n",
    "for ii in range(5):\n",
    "    x0=1.2\n",
    "    res = minimize(fit_shotnoise, x0, args=(clgg[600:,ii], clth_obs[600:,ii], shotnoise[ii]), tol=1e-10)\n",
    "    new_shot.append(res.x[0]*shotnoise[ii])\n",
    "    print(res.x[0])\n",
    "print(new_shot)\n",
    "\n",
    "for ii in range(5):\n",
    "    ratio = clgg[:,ii]/(clth_obs[:,ii]+new_shot[ii])\n",
    "    ratio[0:2] = 0\n",
    "    mean = np.mean(ratio)\n",
    "    std = np.std(ratio)/np.sqrt(1000)\n",
    "    print(mean, std)"
   ]
  },
  {
   "cell_type": "code",
   "execution_count": 32,
   "id": "d9cb234b-9120-44bd-8185-b27f3fd7ffd3",
   "metadata": {
    "tags": []
   },
   "outputs": [
    {
     "data": {
      "image/png": "[encoded data removed]",
      "text/plain": [
       "<Figure size 1000x300 with 2 Axes>"
      ]
     },
     "metadata": {},
     "output_type": "display_data"
    }
   ],
   "source": [
    "# plot all of them:\n",
    "fig,axarr=pl.subplots(1,2,figsize=[10,3])\n",
    "for ii in range(5):\n",
    "    pl.sca(axarr[0])\n",
    "    \n",
    "    pl.loglog(clgg[:,ii],alpha=0.4)\n",
    "    pl.loglog(clth_obs[:,ii]+new_shot[ii],color=f'C{ii}')\n",
    "    pl.ylim([1e-7,1e-4])\n",
    "    \n",
    "    pl.sca(axarr[1])\n",
    "    pl.plot(clgg[:,ii]/(clth_obs[:,ii]+new_shot[ii]))\n",
    "    #pl.plot(cls[\"W1xW1\"])\n",
    "    pl.plot([1,1000],[1,1],'k-')\n",
    "    pl.ylim([0.5,1.5])"
   ]
  },
  {
   "cell_type": "markdown",
   "id": "a7111d25-0f1e-47bc-83c6-2e25d729a561",
   "metadata": {},
   "source": [
    "# VD case:"
   ]
  },
  {
   "cell_type": "code",
   "execution_count": 33,
   "id": "9bc2d5c1-f4e9-49d0-87f2-8d4a060c53f8",
   "metadata": {
    "tags": []
   },
   "outputs": [
    {
     "name": "stdout",
     "output_type": "stream",
     "text": [
      "[24.45635701 25.58412269 25.68054968 25.74725094 25.80403718 25.85731518\n",
      " 25.90701103 25.9576563  26.02081685 26.11157773 27.36975508]\n"
     ]
    }
   ],
   "source": [
    "# load depth map and depth bins:\n",
    "savedir = \"/pscratch/sd/q/qhang/roman-rubin-sims/baselinev3.3/y3/\"\n",
    "sys_info = savedir + \"ExgalM5-i-qtl-mean-weights.txt\"\n",
    "fin=np.loadtxt(sys_info)\n",
    "qtl=fin[:,0]\n",
    "nquantiles=len(qtl)-1\n",
    "qweights=fin[:-1,2]\n",
    "print(qtl)\n",
    "\n",
    "# load depth map:\n",
    "root=\"/pscratch/sd/q/qhang/rubin_baseline_v3.3/MAF-3year/\"\n",
    "fname=root+\"baseline_v3_3_10yrs_ExgalM5_i_and_nightlt1095_HEAL.fits\"\n",
    "depth_map = hp.ud_grade(hp.read_map(fname),512)*mask\n",
    "\n",
    "# pixels:\n",
    "depth_bin_pixels={}\n",
    "for ii in range(nquantiles):\n",
    "    depth_bin_pixels[ii]=np.where((depth_map>=qtl[ii])&(depth_map<qtl[ii+1]))[0]"
   ]
  },
  {
   "cell_type": "code",
   "execution_count": 34,
   "id": "be6b5b9d-cfae-4dd2-9388-351c194e818c",
   "metadata": {
    "tags": []
   },
   "outputs": [
    {
     "name": "stdout",
     "output_type": "stream",
     "text": [
      "{0: array([0.12126456, 0.12891988, 0.12814325, 0.13158259, 0.13413436,\n",
      "       0.13690803, 0.13679708, 0.14123494, 0.14445239, 0.14656038]), 1: array([0.10826274, 0.11194971, 0.11172625, 0.11552495, 0.11552495,\n",
      "       0.11731257, 0.11809465, 0.12133471, 0.12301061, 0.1272562 ]), 2: array([0.13919423, 0.14674224, 0.14973925, 0.15429025, 0.15584426,\n",
      "       0.15673226, 0.15884126, 0.16150527, 0.16605627, 0.17105128]), 3: array([0.19692826, 0.20315172, 0.20826386, 0.21237579, 0.21570979,\n",
      "       0.22215552, 0.22171099, 0.22904579, 0.23604719, 0.24460446]), 4: array([0.23501541, 0.24826356, 0.25538861, 0.26184569, 0.26407227,\n",
      "       0.26963871, 0.27130865, 0.28132825, 0.28644939, 0.29268381])}\n"
     ]
    }
   ],
   "source": [
    "# load evaluation results:\n",
    "lens_y3_armin2 = np.array([0.135, 0.117, 0.156, 0.219, 0.2666])\n",
    "\n",
    "Ngal_lens_vd={}\n",
    "for ii in range(5):\n",
    "    N_galaxies=np.zeros(nquantiles)\n",
    "    for q in range(nquantiles):\n",
    "        nz = packed_stats_maglim[3][\"tomo-%d\"%(ii+1)][\"nz\"][q]\n",
    "        N_galaxies[q]=np.sum(nz[:,1])\n",
    "    Nmean = sum(N_galaxies*qweights)\n",
    "    # show\n",
    "    Ngal_lens_vd[ii]=N_galaxies/Nmean*lens_y3_armin2[ii]\n",
    "print(Ngal_lens_vd)"
   ]
  },
  {
   "cell_type": "code",
   "execution_count": 35,
   "id": "47927804-049d-4037-a73e-280ad21c8e60",
   "metadata": {
    "tags": []
   },
   "outputs": [],
   "source": [
    "# load nofz and interpolation\n",
    "\n",
    "USESHELL={}\n",
    "USEINDEX={}\n",
    "NZ_LENS={}\n",
    "COUNTS={}\n",
    "MEANZ={}\n",
    "\n",
    "#root=\"/pscratch/sd/q/qhang/glass_mock/catalog_info/lsst-y3-fzb/\"\n",
    "\n",
    "for lens_bin in range(5):\n",
    "    \n",
    "    USESHELL[lens_bin]={}\n",
    "    USEINDEX[lens_bin]={}\n",
    "    NZ_LENS[lens_bin]={}\n",
    "    COUNTS[lens_bin]={}\n",
    "    MEANZ[lens_bin]={}\n",
    "    \n",
    "    for depth_bin in range(10):\n",
    "\n",
    "        #fin = np.loadtxt(root+f\"NofZ-lens-tomo-{lens_bin}-VD-{depth_bin}-fzb.dat\")\n",
    "        #finzbin = fin[:,0]\n",
    "        #finzz = (finzbin[1:]+ finzbin[:-1])/2.\n",
    "        #finnz = fin[:-1,1]\n",
    "        \n",
    "        nz = stats[\"tomo-%d\"%(lens_bin+1)][\"nz\"][depth_bin]\n",
    "        d = nz[1,0]-nz[0,0]\n",
    "        finzbin = np.append(nz[:,0]-d/2., nz[-1,0]+d/2.)\n",
    "        finzz = nz[:,0]\n",
    "        finnz = nz[:,1]\n",
    "        N=Ngal_lens_vd[lens_bin][depth_bin]*total_area\n",
    "\n",
    "        # normalise to nz\n",
    "        counts = finnz/np.sum(finnz)/(finzbin[1:]-finzbin[:-1]) # notice here dz is constant\n",
    "        # interpolate the values at z_bin:\n",
    "        counts = np.interp(z_values_bin_max[::-1], finzz, counts, left=0,right=0)\n",
    "        # normalise by dz\n",
    "        counts=counts*(z_values_bin_max[::-1] - z_values_bin_min[::-1])\n",
    "        counts = counts/np.sum(counts)*N # normalise\n",
    "        counts = counts[::-1] # this is the number of objects per bin in the same order as the index\n",
    "\n",
    "        # compute mean redshift too:\n",
    "        meanz=np.sum(z_bin*counts)/np.sum(counts)\n",
    "        #print(\"N\", N, \"meanz\", meanz)\n",
    "\n",
    "        # n(z) for lens\n",
    "        nz_lens=counts/np.sum(counts)/(z_bin_edges[:-1]-z_bin_edges[1:])\n",
    "        # define which shells are used\n",
    "        useshell = np.where(counts>0)[0] #(0-99 based)\n",
    "        useindex = z_values_index[useshell].astype(int)\n",
    "        #print(\"The following shells (0-99) are used for lens: \",useshell)\n",
    "\n",
    "        USESHELL[lens_bin][depth_bin]=useshell\n",
    "        USEINDEX[lens_bin][depth_bin]=useindex\n",
    "        NZ_LENS[lens_bin][depth_bin]=nz_lens\n",
    "        COUNTS[lens_bin][depth_bin]=counts\n",
    "        MEANZ[lens_bin][depth_bin]=meanz"
   ]
  },
  {
   "cell_type": "code",
   "execution_count": 38,
   "id": "05228eef-df95-4067-8437-8f1c7eaa43c5",
   "metadata": {
    "tags": []
   },
   "outputs": [
    {
     "name": "stdout",
     "output_type": "stream",
     "text": [
      "meanz 0.2615195657296057 Ngal 7557274.619074645\n",
      "meanz 0.26508089286322506 Ngal 8034357.829244956\n",
      "meanz 0.26579960823477944 Ngal 7985958.083285648\n",
      "meanz 0.2685173837463443 Ngal 8200299.815391151\n",
      "meanz 0.2690041690047402 Ngal 8359327.552114591\n",
      "meanz 0.27062208403364624 Ngal 8532183.787683545\n",
      "meanz 0.27067116389830886 Ngal 8525269.53826079\n",
      "meanz 0.27260610200345875 Ngal 8801839.51517111\n",
      "meanz 0.2729393956267939 Ngal 9002352.748431098\n",
      "meanz 0.2745607819558618 Ngal 9133723.487463508\n",
      "mean N 8413258.697612103\n"
     ]
    },
    {
     "data": {
      "image/png": "[encoded data removed]",
      "text/plain": [
       "<Figure size 640x480 with 1 Axes>"
      ]
     },
     "metadata": {},
     "output_type": "display_data"
    }
   ],
   "source": [
    "# check:\n",
    "lens_bin = 0\n",
    "for ii in range(10):\n",
    "    pl.plot(z_bin, NZ_LENS[lens_bin][ii])\n",
    "pl.xlim([0,3])\n",
    "\n",
    "meanN = 0\n",
    "for ii in range(10):\n",
    "    print(\"meanz\", MEANZ[lens_bin][ii], \"Ngal\", sum(COUNTS[lens_bin][ii]))\n",
    "    meanN += sum(COUNTS[lens_bin][ii])/10\n",
    "print(\"mean N\", meanN)"
   ]
  },
  {
   "cell_type": "code",
   "execution_count": 39,
   "id": "c081c6ed-dd63-4199-83c2-1d8a566d8514",
   "metadata": {
    "tags": []
   },
   "outputs": [],
   "source": [
    "# density map without noise:\n",
    "savedir=\"/pscratch/sd/q/qhang/dirac_mock/desc-project285/\"\n",
    "root=\"/pscratch/sd/q/qhang/dirac_mock/desc-project285/\"\n",
    "\n",
    "# this is the delta map with nz effects\n",
    "delta_mod={}# this is the modification map we first construct these maps for each bin\n",
    "\n",
    "for ii in range(5):\n",
    "    frac = Ngal_lens_vd[ii]/lens_y3_armin2[ii]\n",
    "    delta_mod[ii]=np.zeros(len(mask))\n",
    "    for depth_bin in range(10):\n",
    "        pixels = depth_bin_pixels[depth_bin]\n",
    "        delta_mod[ii][pixels]=(frac[depth_bin]-1)"
   ]
  },
  {
   "cell_type": "code",
   "execution_count": 40,
   "id": "2cb4ffbe-ee5e-4f69-a920-380059224ce7",
   "metadata": {
    "tags": []
   },
   "outputs": [
    {
     "name": "stdout",
     "output_type": "stream",
     "text": [
      "Doing shell = 20...\n",
      "Doing shell = 40...\n",
      "Doing shell = 60...\n",
      "Doing shell = 80...\n"
     ]
    }
   ],
   "source": [
    "delta_map={}\n",
    "for ii in range(5):\n",
    "    delta_map[ii]=np.zeros(len(mask))\n",
    "\n",
    "for shelli in range(16,100):\n",
    "    \n",
    "    if shelli%20==0:\n",
    "        print(f\"Doing shell = {shelli}...\")\n",
    "    \n",
    "    dens = hp.read_map(simroot + f\"lens_{shelli+1}_512.fits\")#1-100\n",
    "    \n",
    "    for ii in range(5):\n",
    "        for depth_bin in range(10):\n",
    "            useshell = USESHELL[ii][depth_bin]\n",
    "            nz_lens = COUNTS[ii][depth_bin]/sum(COUNTS[ii][depth_bin]) # notice here we don't want the dz factor!\n",
    "            pixels = depth_bin_pixels[depth_bin]\n",
    "        \n",
    "            if shelli in useshell:\n",
    "                delta_map[ii][pixels] += dens[pixels]*nz_lens[shelli]"
   ]
  },
  {
   "cell_type": "code",
   "execution_count": 41,
   "id": "57de0dff-8598-4474-9e8c-a89e1ac24df9",
   "metadata": {
    "tags": []
   },
   "outputs": [
    {
     "name": "stderr",
     "output_type": "stream",
     "text": [
      "setting the output map dtype to [dtype('float64')]\n",
      "setting the output map dtype to [dtype('float64')]\n",
      "setting the output map dtype to [dtype('float64')]\n",
      "setting the output map dtype to [dtype('float64')]\n"
     ]
    },
    {
     "name": "stdout",
     "output_type": "stream",
     "text": [
      "Written:  /pscratch/sd/q/qhang/dirac_mock/desc-project285/deltamap-vd-nzonly-lens-maglim-tomo-0-nside-512.fits\n",
      "Written:  /pscratch/sd/q/qhang/dirac_mock/desc-project285/deltamap-vd-lens-maglim-tomo-0-nside-512.fits\n",
      "Written:  /pscratch/sd/q/qhang/dirac_mock/desc-project285/deltamap-vd-nzonly-lens-maglim-tomo-1-nside-512.fits\n"
     ]
    },
    {
     "name": "stderr",
     "output_type": "stream",
     "text": [
      "setting the output map dtype to [dtype('float64')]\n",
      "setting the output map dtype to [dtype('float64')]\n",
      "setting the output map dtype to [dtype('float64')]\n"
     ]
    },
    {
     "name": "stdout",
     "output_type": "stream",
     "text": [
      "Written:  /pscratch/sd/q/qhang/dirac_mock/desc-project285/deltamap-vd-lens-maglim-tomo-1-nside-512.fits\n",
      "Written:  /pscratch/sd/q/qhang/dirac_mock/desc-project285/deltamap-vd-nzonly-lens-maglim-tomo-2-nside-512.fits\n",
      "Written:  /pscratch/sd/q/qhang/dirac_mock/desc-project285/deltamap-vd-lens-maglim-tomo-2-nside-512.fits\n"
     ]
    },
    {
     "name": "stderr",
     "output_type": "stream",
     "text": [
      "setting the output map dtype to [dtype('float64')]\n",
      "setting the output map dtype to [dtype('float64')]\n",
      "setting the output map dtype to [dtype('float64')]\n"
     ]
    },
    {
     "name": "stdout",
     "output_type": "stream",
     "text": [
      "Written:  /pscratch/sd/q/qhang/dirac_mock/desc-project285/deltamap-vd-nzonly-lens-maglim-tomo-3-nside-512.fits\n",
      "Written:  /pscratch/sd/q/qhang/dirac_mock/desc-project285/deltamap-vd-lens-maglim-tomo-3-nside-512.fits\n",
      "Written:  /pscratch/sd/q/qhang/dirac_mock/desc-project285/deltamap-vd-nzonly-lens-maglim-tomo-4-nside-512.fits\n",
      "Written:  /pscratch/sd/q/qhang/dirac_mock/desc-project285/deltamap-vd-lens-maglim-tomo-4-nside-512.fits\n"
     ]
    }
   ],
   "source": [
    "# save map\n",
    "root=\"/pscratch/sd/q/qhang/dirac_mock/desc-project285/\"\n",
    "for ii in range(5):\n",
    "    fname=savedir+f\"deltamap-vd-nzonly-lens-maglim-tomo-{ii}-nside-512.fits\"\n",
    "    hp.write_map(fname, delta_map[ii], overwrite=True)\n",
    "    print(\"Written: \", fname)\n",
    "    \n",
    "    fname=savedir+f\"deltamap-vd-lens-maglim-tomo-{ii}-nside-512.fits\"\n",
    "    hp.write_map(fname, delta_map[ii]+delta_mod[ii], overwrite=True)\n",
    "    print(\"Written: \", fname)"
   ]
  },
  {
   "cell_type": "code",
   "execution_count": 42,
   "id": "21ab944d-83a1-4b3a-8b83-9145207b48ad",
   "metadata": {
    "tags": []
   },
   "outputs": [
    {
     "name": "stderr",
     "output_type": "stream",
     "text": [
      "setting the output map dtype to [dtype('float64')]\n"
     ]
    },
    {
     "name": "stdout",
     "output_type": "stream",
     "text": [
      "Written:  /pscratch/sd/q/qhang/dirac_mock/desc-project285/galmap-vd-lens-maglim-tomo-0-nside-512.fits\n"
     ]
    },
    {
     "name": "stderr",
     "output_type": "stream",
     "text": [
      "setting the output map dtype to [dtype('float64')]\n"
     ]
    },
    {
     "name": "stdout",
     "output_type": "stream",
     "text": [
      "Written:  /pscratch/sd/q/qhang/dirac_mock/desc-project285/galmap-vd-lens-maglim-tomo-1-nside-512.fits\n"
     ]
    },
    {
     "name": "stderr",
     "output_type": "stream",
     "text": [
      "setting the output map dtype to [dtype('float64')]\n"
     ]
    },
    {
     "name": "stdout",
     "output_type": "stream",
     "text": [
      "Written:  /pscratch/sd/q/qhang/dirac_mock/desc-project285/galmap-vd-lens-maglim-tomo-2-nside-512.fits\n"
     ]
    },
    {
     "name": "stderr",
     "output_type": "stream",
     "text": [
      "setting the output map dtype to [dtype('float64')]\n"
     ]
    },
    {
     "name": "stdout",
     "output_type": "stream",
     "text": [
      "Written:  /pscratch/sd/q/qhang/dirac_mock/desc-project285/galmap-vd-lens-maglim-tomo-3-nside-512.fits\n"
     ]
    },
    {
     "name": "stderr",
     "output_type": "stream",
     "text": [
      "setting the output map dtype to [dtype('float64')]\n"
     ]
    },
    {
     "name": "stdout",
     "output_type": "stream",
     "text": [
      "Written:  /pscratch/sd/q/qhang/dirac_mock/desc-project285/galmap-vd-lens-maglim-tomo-4-nside-512.fits\n"
     ]
    }
   ],
   "source": [
    "# galaxy map:\n",
    "\n",
    "# now compute galaxy number per pixel:\n",
    "# generate lens galaxy map:\n",
    "bias=1\n",
    "Npix = np.sum(mask)\n",
    "np.random.seed(1234)\n",
    "# this is just to make the galaxy maps reproducible\n",
    "savedir=\"/pscratch/sd/q/qhang/dirac_mock/desc-project285/\"\n",
    "\n",
    "for lens_bin in range(5):\n",
    "\n",
    "    counts = COUNTS[lens_bin]\n",
    "    useshell = USESHELL[lens_bin]\n",
    "    useindex = USEINDEX[lens_bin]\n",
    "    galmap = np.zeros(len(mask))\n",
    "    \n",
    "    for depth_bin in range(10):\n",
    "        \n",
    "        for ii,index in enumerate(useindex[depth_bin]):\n",
    "            dens = hp.read_map(simroot + f\"lens_{index}_512.fits\")\n",
    "            pixels = depth_bin_pixels[depth_bin]\n",
    "            \n",
    "            Ngal_perpix = counts[depth_bin]\n",
    "            Ngal_perpix = Ngal_perpix[useshell[depth_bin]]/Npix\n",
    "            \n",
    "            exp_Ngal = Ngal_perpix[ii]*(1+bias*dens[pixels])\n",
    "            #exp_Ngal = exp_Ngal[mask.astype(bool)]\n",
    "            # set anything smaller than 0 to 0\n",
    "            #exp_Ngal[exp_Ngal<0]=0\n",
    "            galmap[pixels] += np.random.poisson(lam=exp_Ngal)\n",
    "\n",
    "    # save galmap\n",
    "    fname=savedir+f\"galmap-vd-lens-maglim-tomo-{lens_bin}-nside-512.fits\"\n",
    "    hp.write_map(fname, galmap, overwrite=True)\n",
    "    print(\"Written: \", fname)"
   ]
  },
  {
   "cell_type": "markdown",
   "id": "fa79b975-04b5-481a-b074-a9b34c9065f3",
   "metadata": {},
   "source": [
    "# compute clgg data vector using namaster"
   ]
  },
  {
   "cell_type": "markdown",
   "id": "cb9f4d8e-574c-4e45-a385-28db97ec47b4",
   "metadata": {},
   "source": [
    "# Check results:"
   ]
  },
  {
   "cell_type": "code",
   "execution_count": 43,
   "id": "9e2871f8-967b-41ee-9ef4-6a85dd889a5b",
   "metadata": {
    "tags": []
   },
   "outputs": [],
   "source": [
    "root=\"/pscratch/sd/q/qhang/dirac_mock/desc-project285/\"\n",
    "ell=np.loadtxt(root+\"effective_ells.txt\")\n",
    "bw=np.load(root+\"wb-clgg-binning-20-2000-nell-20-log.npy\")"
   ]
  },
  {
   "cell_type": "code",
   "execution_count": 44,
   "id": "acbd3e0e-fc0b-4400-a9a5-8229d6c63d9f",
   "metadata": {
    "tags": []
   },
   "outputs": [],
   "source": [
    "def convolve_bandpower(bw, cl_th):\n",
    "    # convolve with band power:\n",
    "    usebw=bw[0,:,0,:]\n",
    "    L=len(cl_th)\n",
    "    L2=usebw.shape[1]\n",
    "    if L2>=L: \n",
    "        cl_th_binned=np.dot(cl_th, usebw[:,:L].T)\n",
    "    else:\n",
    "        cl_th_binned=np.dot(cl_th[:L2], usebw.T)\n",
    "    return cl_th_binned"
   ]
  },
  {
   "cell_type": "code",
   "execution_count": 45,
   "id": "1216603c-1237-4557-a77e-f3da8e981567",
   "metadata": {
    "tags": []
   },
   "outputs": [],
   "source": [
    "clgg_binned_un = np.loadtxt(root+\"data-nmt-clgg-maglim-512-binning-20-2000.txt\")\n",
    "clgg_binned_vd = np.loadtxt(root+\"data-nmt-clgg-vd-maglim-512-binning-20-2000.txt\")\n",
    "\n",
    "# covmat\n",
    "clgg_cov = {}\n",
    "for ii in range(5):\n",
    "    fname = root+f\"cov-nmt-clgg-maglim-tomo-{ii}-512-binning-20-2000.txt\"\n",
    "    clgg_cov[ii]=np.loadtxt(fname)\n",
    "    \n",
    "# theory - binned:\n",
    "clgg_theory = np.loadtxt(root+\"clgg-maglim-theory-z_bin-nside-512.txt\")\n",
    "# add pixwin and shotnoise\n",
    "pshot = np.array([6.451400144212375e-07, 7.381277724137032e-07, 5.58668132340528e-07, \n",
    "                  3.943298655590948e-07, 3.249200879550556e-07])\n",
    "pixwin=hp.pixwin(nside,lmax=3*nside-1)**2\n",
    "clgg_theory_binned = []\n",
    "for ii in range(5):\n",
    "    tmp=(clgg_theory[:,ii]*pixwin)+pshot[ii]\n",
    "    # binned version:\n",
    "    clgg_theory_binned.append(convolve_bandpower(bw, tmp))"
   ]
  },
  {
   "cell_type": "code",
   "execution_count": 46,
   "id": "619929bd-b720-4947-b838-370c810ca7f2",
   "metadata": {
    "tags": []
   },
   "outputs": [
    {
     "data": {
      "image/png": "[encoded data removed]",
      "text/plain": [
       "<Figure size 1200x300 with 10 Axes>"
      ]
     },
     "metadata": {},
     "output_type": "display_data"
    }
   ],
   "source": [
    "fig,axarr=pl.subplots(2,5,figsize=[12,3],sharey='row',sharex=True,\n",
    "                     gridspec_kw={'height_ratios': [3, 1]})\n",
    "for ii in range(5):\n",
    "    pl.sca(axarr[0,ii])\n",
    "    yerr=np.sqrt(np.diag(clgg_cov[ii]))\n",
    "    pl.errorbar(ell, clgg_binned_un[ii,:], yerr=yerr)\n",
    "    pl.errorbar(ell, clgg_binned_vd[ii,:], yerr=yerr)\n",
    "    pl.plot(ell, clgg_theory_binned[ii], 'k-')\n",
    "    pl.xscale(\"log\")\n",
    "    pl.yscale(\"log\")\n",
    "    \n",
    "    pl.sca(axarr[1,ii])\n",
    "    ratio=clgg_binned_un[ii,:]/clgg_theory_binned[ii]\n",
    "    err=yerr/clgg_theory_binned[ii]\n",
    "    pl.errorbar(ell,ratio,yerr=err)\n",
    "    \n",
    "    ratio=clgg_binned_vd[ii,:]/clgg_theory_binned[ii]\n",
    "    pl.errorbar(ell,ratio,yerr=err)\n",
    "    \n",
    "    pl.plot([20,1000],[1,1],'k-')\n",
    "    pl.ylim([0.5,1.5])\n",
    "pl.xlim([20,1000])\n",
    "pl.subplots_adjust(wspace=0)"
   ]
  },
  {
   "cell_type": "markdown",
   "id": "b9ae1c6f-7b43-4c9e-95af-6621c1a703ca",
   "metadata": {},
   "source": [
    "# chi square"
   ]
  },
  {
   "cell_type": "code",
   "execution_count": 47,
   "id": "804d55d0-94f2-44d0-814e-a10a8fa05586",
   "metadata": {
    "tags": []
   },
   "outputs": [
    {
     "name": "stdout",
     "output_type": "stream",
     "text": [
      "dof:  9\n",
      "dof:  11\n",
      "dof:  12\n",
      "dof:  12\n",
      "dof:  13\n",
      "chi sq uniform:  [0.83808058 1.27341863 2.23674703 1.97885803 1.20546043]\n",
      "chi sq vd:  [ 1.76319215  2.24202239  6.92250783 21.21629712 32.52148546]\n"
     ]
    }
   ],
   "source": [
    "# noisey clgg:\n",
    "ellmax=[265.9807349941148, 403.1155966170281, 539.8220627877016, 653.0018484000559, 756.7049307487994]\n",
    "pshot = np.array([6.451400144212375e-07, 7.381277724137032e-07, 5.58668132340528e-07, \n",
    "                  3.943298655590948e-07, 3.249200879550556e-07])\n",
    "pixwin=hp.pixwin(nside,lmax=3*nside-1)**2\n",
    "\n",
    "#pshot[0]*=1.05\n",
    "#pshot[1]*=1.01\n",
    "#pshot[2]*=1.04\n",
    "#pshot[3]*=1.02\n",
    "#pshot[4]*=1.02\n",
    "\n",
    "clgg_binned_un = np.loadtxt(root+\"data-nmt-clgg-maglim-512-binning-20-2000.txt\")\n",
    "clgg_binned_vd = np.loadtxt(root+\"data-nmt-clgg-vd-maglim-512-binning-20-2000.txt\")\n",
    "clgg_theory = np.loadtxt(root+\"clgg-maglim-theory-z_bin-nside-512.txt\")\n",
    "\n",
    "# covmat\n",
    "chi_sq_1=np.zeros(5)\n",
    "chi_sq_2=np.zeros(5)\n",
    "for ii in range(5):\n",
    "    ind_scale = (ell<ellmax[ii])#&(ell>50)\n",
    "    print(\"dof: \", sum(ind_scale))\n",
    "    \n",
    "    data1 = clgg_binned_un[ii, ind_scale]\n",
    "    data2 = clgg_binned_vd[ii, ind_scale]\n",
    "    \n",
    "    fname = root+f\"cov-nmt-clgg-maglim-tomo-{ii}-512-binning-20-2000.txt\"\n",
    "    covmat=np.loadtxt(fname)#/fsky\n",
    "    covmat=covmat[ind_scale,:]\n",
    "    covmat=covmat[:,ind_scale]\n",
    "    invcov = np.linalg.inv(covmat)\n",
    "    \n",
    "    tmp=(clgg_theory[:,ii]*pixwin)+pshot[ii]\n",
    "    theory = convolve_bandpower(bw, tmp)\n",
    "    theory = theory[ind_scale]#*factor[ii]\n",
    "    \n",
    "    vec=data1-theory\n",
    "    chi_sq_1[ii]=np.dot(vec,np.dot(vec,invcov))\n",
    "    \n",
    "    vec=data2-theory\n",
    "    chi_sq_2[ii]=np.dot(vec,np.dot(vec,invcov))\n",
    "print(\"chi sq uniform: \", chi_sq_1/sum(ind_scale))\n",
    "print(\"chi sq vd: \", chi_sq_2/sum(ind_scale))"
   ]
  }
 ],
 "metadata": {
  "kernelspec": {
   "display_name": "desc-python",
   "language": "python",
   "name": "desc-python"
  },
  "language_info": {
   "codemirror_mode": {
    "name": "ipython",
    "version": 3
   },
   "file_extension": ".py",
   "mimetype": "text/x-python",
   "name": "python",
   "nbconvert_exporter": "python",
   "pygments_lexer": "ipython3",
   "version": "3.10.13"
  }
 },
 "nbformat": 4,
 "nbformat_minor": 5
}
