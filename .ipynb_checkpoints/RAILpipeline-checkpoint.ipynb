{
 "cells": [
  {
   "cell_type": "markdown",
   "id": "6452249b-e8e6-4e4b-b0d1-924d3e6f695e",
   "metadata": {},
   "source": [
    "# Survey non-uniformity check pipeline:\n",
    "\n",
    "This notebook outlines a draft pipeline which mainly uses RAIL to check for any given choice of photo-z pipeline, the effect of survey non-uniformity.\n",
    "\n",
    "\n"
   ]
  },
  {
   "cell_type": "code",
   "execution_count": null,
   "id": "de1bc2f1-3ccd-4bf1-b2b2-451cee9731a3",
   "metadata": {},
   "outputs": [],
   "source": [
    "# import dependences\n",
    "\n",
    "%matplotlib inline\n",
    "import numpy as np\n",
    "import matplotlib.pyplot as plt\n",
    "\n",
    "from astropy.io import fits\n",
    "import numpy as np\n",
    "\n",
    "import healpy as hp\n",
    "import pickle\n",
    "\n",
    "import pzflow\n",
    "from pzflow import Flow\n",
    "from pzflow.bijectors import Chain, ShiftBounds, RollingSplineCoupling\n",
    "from pzflow.examples import get_galaxy_data"
   ]
  },
  {
   "cell_type": "code",
   "execution_count": null,
   "id": "2fc804d1-dd83-4036-a69a-2952aacbc2ed",
   "metadata": {},
   "outputs": [],
   "source": [
    "import healpy as hp\n",
    "import pickle\n",
    "\n",
    "import pandas as pd\n",
    "from collections import OrderedDict\n",
    "\n",
    "import sys\n",
    "sys.path.insert(0, '/global/homes/q/qhang/desc/notebooks_for_analysis/')\n",
    "import spatial_var_functions as svf\n",
    "import measure_properties_with_systematics as mp"
   ]
  },
  {
   "cell_type": "markdown",
   "id": "8c0b1c9d-f06b-4418-8f7b-bc6bafbe8ede",
   "metadata": {},
   "source": [
    "### Pre-defined functions:"
   ]
  },
  {
   "cell_type": "markdown",
   "id": "c468f266-271a-4a4f-bfe2-87bb595d7cf4",
   "metadata": {
    "tags": []
   },
   "source": [
    "## Step 1: Load pre-trained flow"
   ]
  },
  {
   "cell_type": "code",
   "execution_count": null,
   "id": "3bd1c95d-d815-48a2-b038-5259d8cad586",
   "metadata": {},
   "outputs": [],
   "source": [
    "photFlow = Flow(file = \"/export/donatello/qhang/nersc_local/main_galaxy_flow/flow.pzflow.pkl\")\n",
    "shapeFlow = Flow(file = \"/export/donatello/qhang/nersc_local/conditional_galaxy_flow/flow.pzflow.pkl\")"
   ]
  },
  {
   "cell_type": "code",
   "execution_count": null,
   "id": "31195b9a-0676-44d5-966c-2d729e1a1e6f",
   "metadata": {},
   "outputs": [],
   "source": [
    "# fraction of sample with the i-band limit at Y5 is about 30%\n",
    "Ngal_gen = int(160000/0.3)\n",
    "print(Ngal_gen)"
   ]
  },
  {
   "cell_type": "code",
   "execution_count": null,
   "id": "fdf30948-3153-4dfb-b576-4e4f8464a952",
   "metadata": {},
   "outputs": [],
   "source": [
    "# first sample the redshifts and photometry\n",
    "photoCat = photFlow.sample(Ngal_gen, seed=0)\n",
    "\n",
    "# then add in the sizes and ellipticities\n",
    "fullCat = shapeFlow.sample(conditions=photoCat, seed=0)"
   ]
  },
  {
   "cell_type": "code",
   "execution_count": null,
   "id": "90e5c3bd-68a4-45eb-b3fc-2209bdc0d9c7",
   "metadata": {},
   "outputs": [],
   "source": [
    "# now apply the cut and save:\n",
    "\n",
    "sel = fullCat['i']<25\n",
    "sel = sel & (fullCat['u']<25.7)\n",
    "sel = sel & (fullCat['g']<27.0)\n",
    "sel = sel & (fullCat['r']<27.1)\n",
    "sel = sel & (fullCat['z']<25.7)\n",
    "sel = sel & (fullCat['y']<24.5)\n",
    "\n",
    "print(len(fullCat['i'][sel]))\n",
    "\n",
    "# save\n",
    "mock_tract = fullCat.loc[sel, :]\n",
    "\n",
    "svf.dump_save(mock_tract, 'cosmoDC2_pzflow_sample_single_tract.pkl')"
   ]
  },
  {
   "cell_type": "markdown",
   "id": "0863cfec-96ba-4624-9cb9-91fae8a8008a",
   "metadata": {},
   "source": [
    "### Step 2: Load systematic maps"
   ]
  },
  {
   "cell_type": "code",
   "execution_count": null,
   "id": "566cdb41-ac68-4e66-a459-efecb0d45fd2",
   "metadata": {},
   "outputs": [],
   "source": []
  },
  {
   "cell_type": "code",
   "execution_count": null,
   "id": "9bc37f27-5988-4fbb-bf9e-5f9b82b32fbe",
   "metadata": {},
   "outputs": [],
   "source": []
  },
  {
   "cell_type": "code",
   "execution_count": null,
   "id": "38cbae54-4e1e-44c0-b7c7-fa4512a507a5",
   "metadata": {},
   "outputs": [],
   "source": []
  },
  {
   "cell_type": "code",
   "execution_count": null,
   "id": "fcd1cb80-7212-4d69-a629-1c5816df0bc3",
   "metadata": {},
   "outputs": [],
   "source": []
  }
 ],
 "metadata": {
  "kernelspec": {
   "display_name": "condarail",
   "language": "python",
   "name": "condarail"
  },
  "language_info": {
   "codemirror_mode": {
    "name": "ipython",
    "version": 3
   },
   "file_extension": ".py",
   "mimetype": "text/x-python",
   "name": "python",
   "nbconvert_exporter": "python",
   "pygments_lexer": "ipython3",
   "version": "3.9.12"
  }
 },
 "nbformat": 4,
 "nbformat_minor": 5
}
